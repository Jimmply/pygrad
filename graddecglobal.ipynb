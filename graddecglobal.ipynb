{
 "cells": [
  {
   "cell_type": "code",
   "execution_count": 1,
   "id": "5459fb79-161e-468e-80b2-f51295b1b987",
   "metadata": {},
   "outputs": [
    {
     "data": {
      "text/html": [
       "<div>\n",
       "<style scoped>\n",
       "    .dataframe tbody tr th:only-of-type {\n",
       "        vertical-align: middle;\n",
       "    }\n",
       "\n",
       "    .dataframe tbody tr th {\n",
       "        vertical-align: top;\n",
       "    }\n",
       "\n",
       "    .dataframe thead th {\n",
       "        text-align: right;\n",
       "    }\n",
       "</style>\n",
       "<table border=\"1\" class=\"dataframe\">\n",
       "  <thead>\n",
       "    <tr style=\"text-align: right;\">\n",
       "      <th></th>\n",
       "      <th>x_train</th>\n",
       "      <th>y_train</th>\n",
       "    </tr>\n",
       "  </thead>\n",
       "  <tbody>\n",
       "    <tr>\n",
       "      <th>5</th>\n",
       "      <td>1.182421</td>\n",
       "      <td>1.860341</td>\n",
       "    </tr>\n",
       "    <tr>\n",
       "      <th>6</th>\n",
       "      <td>1.251605</td>\n",
       "      <td>1.878928</td>\n",
       "    </tr>\n",
       "    <tr>\n",
       "      <th>7</th>\n",
       "      <td>1.270474</td>\n",
       "      <td>2.430015</td>\n",
       "    </tr>\n",
       "    <tr>\n",
       "      <th>8</th>\n",
       "      <td>1.402553</td>\n",
       "      <td>2.327856</td>\n",
       "    </tr>\n",
       "    <tr>\n",
       "      <th>9</th>\n",
       "      <td>1.427711</td>\n",
       "      <td>2.203649</td>\n",
       "    </tr>\n",
       "  </tbody>\n",
       "</table>\n",
       "</div>"
      ],
      "text/plain": [
       "    x_train   y_train\n",
       "5  1.182421  1.860341\n",
       "6  1.251605  1.878928\n",
       "7  1.270474  2.430015\n",
       "8  1.402553  2.327856\n",
       "9  1.427711  2.203649"
      ]
     },
     "execution_count": 1,
     "metadata": {},
     "output_type": "execute_result"
    }
   ],
   "source": [
    "import numpy as np\n",
    "import pandas as pd\n",
    "import matplotlib.pyplot as plt\n",
    "# для регрессии\n",
    "from sklearn.model_selection import train_test_split\n",
    "from sklearn.linear_model import SGDRegressor\n",
    "from sklearn.metrics import mean_squared_error\n",
    "from scipy.spatial import distance\n",
    "%matplotlib inline\n",
    "\n",
    "data = pd.read_csv('3.10_non_linear.csv', sep=',')\n",
    "data = data[(data.x_train > 1) & (data.x_train < 5)].copy()\n",
    "\n",
    "X = data['x_train'].values.reshape(-1, 1) # превращаем X из простого массива в вектор-столбец\n",
    "y = data['y_train'].values\n",
    "\n",
    "# разбиваем на трейн и валидацию\n",
    "X_train, X_test, y_train, y_test = train_test_split(X, y, test_size=0.2, random_state=10)\n",
    "\n",
    "data.head()"
   ]
  },
  {
   "cell_type": "code",
   "execution_count": 2,
   "id": "d65fafbc-2f0c-4f52-9e5e-4f9e653b8813",
   "metadata": {},
   "outputs": [],
   "source": [
    "def gradient(X, y, w) -> np.array:\n",
    "    #количество примеров в обучающей выборки\n",
    "    n = X.shape[0]\n",
    "    #прогноз\n",
    "    y_hat = X.dot(w.T)\n",
    "    #вычисляем ошибку\n",
    "    error = y - y_hat\n",
    "    #вычисляем градиент функции\n",
    "    grad = np.multiply(X, error).sum(axis=0)*(-1.0)*2.0/n\n",
    "    return grad, error\n",
    "\n",
    "def eval_w_next(X, y, eta, w_current):\n",
    "    # вычисляем градиент\n",
    "    grad, error = gradient(X, y, w_current)\n",
    "    # шаг спуска\n",
    "    w_next = w_current - eta * grad\n",
    "    # условие сходимости\n",
    "    weight_evolution = distance.euclidean(w_current, w_next)\n",
    "    return (w_next, weight_evolution, grad)\n",
    "\n",
    "def gradient_descent(X, y, eta=0.01, epsilon=0.001):\n",
    "    m = X.shape[1] # количество фичей - размерность градиента\n",
    "    w = np.random.random(m).reshape(1, -1)\n",
    "    w_next, weight_evolution, grad = eval_w_next(X, y, eta, w)\n",
    "    step = 0\n",
    "    while weight_evolution > epsilon:\n",
    "        w = w_next\n",
    "        w_next, weight_evolution, grad = eval_w_next(X, y, eta, w)\n",
    "        step += 1\n",
    "        if step % 100 == 0:\n",
    "            print(\"step %s, |w-w_next|=%0.5f, rrad=%s\" %(step, weight_evolution, grad))\n",
    "    return w"
   ]
  },
  {
   "cell_type": "code",
   "execution_count": 7,
   "id": "3ed5aced-52f3-483f-950d-3ba10eabf4d0",
   "metadata": {},
   "outputs": [
    {
     "name": "stdout",
     "output_type": "stream",
     "text": [
      "step 100, |w-w_next|=0.00520, rrad=[-0.62463509  0.18044467]\n",
      "step 200, |w-w_next|=0.00428, rrad=[-0.51402834  0.14849256]\n",
      "step 300, |w-w_next|=0.00352, rrad=[-0.42300719  0.12219836]\n",
      "step 400, |w-w_next|=0.00290, rrad=[-0.34810353  0.10056019]\n",
      "step 500, |w-w_next|=0.00239, rrad=[-0.28646338  0.08275357]\n",
      "step 600, |w-w_next|=0.00196, rrad=[-0.2357381   0.06810005]\n",
      "step 700, |w-w_next|=0.00162, rrad=[-0.19399497  0.05604129]\n",
      "step 800, |w-w_next|=0.00133, rrad=[-0.15964347  0.04611782]\n",
      "step 900, |w-w_next|=0.00109, rrad=[-0.13137473  0.03795155]\n"
     ]
    }
   ],
   "source": [
    "X = data.x_train.values.reshape(-1, 1)\n",
    "n = X.shape[0]\n",
    "# добавляем тривиальный признак из едениц\n",
    "X = np.hstack([\n",
    "    np.ones(n).reshape(-1, 1),\n",
    "    X\n",
    "])\n",
    "w = gradient_descent(X, data.y_train.values.reshape(-1, 1), eta = 0.008)"
   ]
  },
  {
   "cell_type": "code",
   "execution_count": null,
   "id": "2e327e70-cdc3-45f7-bb7e-e066ba226796",
   "metadata": {},
   "outputs": [],
   "source": []
  }
 ],
 "metadata": {
  "kernelspec": {
   "display_name": "Python 3",
   "language": "python",
   "name": "python3"
  },
  "language_info": {
   "codemirror_mode": {
    "name": "ipython",
    "version": 3
   },
   "file_extension": ".py",
   "mimetype": "text/x-python",
   "name": "python",
   "nbconvert_exporter": "python",
   "pygments_lexer": "ipython3",
   "version": "3.8.8"
  }
 },
 "nbformat": 4,
 "nbformat_minor": 5
}
